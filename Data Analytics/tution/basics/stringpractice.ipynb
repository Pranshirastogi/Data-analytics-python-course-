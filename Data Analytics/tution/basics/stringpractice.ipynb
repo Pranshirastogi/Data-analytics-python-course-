{
 "cells": [
  {
   "cell_type": "code",
   "execution_count": 1,
   "metadata": {},
   "outputs": [
    {
     "name": "stdout",
     "output_type": "stream",
     "text": [
      "hy world\n"
     ]
    }
   ],
   "source": [
    "data = str('hy world')\n",
    "print(data)"
   ]
  },
  {
   "cell_type": "code",
   "execution_count": 2,
   "metadata": {},
   "outputs": [
    {
     "name": "stdout",
     "output_type": "stream",
     "text": [
      "7\n"
     ]
    }
   ],
   "source": [
    "name = str(input('enter your name'))\n",
    "print(len(name))"
   ]
  },
  {
   "cell_type": "code",
   "execution_count": 10,
   "metadata": {},
   "outputs": [
    {
     "name": "stdout",
     "output_type": "stream",
     "text": [
      "great\n"
     ]
    }
   ],
   "source": [
    "s = 'python is great'\n",
    "slice1 = s[-5:]\n",
    "print(slice1)"
   ]
  },
  {
   "cell_type": "code",
   "execution_count": 11,
   "metadata": {},
   "outputs": [
    {
     "name": "stdout",
     "output_type": "stream",
     "text": [
      "python\n",
      "is\n",
      "everywhere\n"
     ]
    }
   ],
   "source": [
    "word = '''python\n",
    "is\n",
    "everywhere'''\n",
    "print(word)"
   ]
  },
  {
   "cell_type": "code",
   "execution_count": 14,
   "metadata": {},
   "outputs": [
    {
     "name": "stdout",
     "output_type": "stream",
     "text": [
      "!dlrow olleh\n"
     ]
    }
   ],
   "source": [
    "data = 'hello world!'\n",
    "print(data[::-1])"
   ]
  },
  {
   "cell_type": "code",
   "execution_count": 16,
   "metadata": {},
   "outputs": [
    {
     "name": "stdout",
     "output_type": "stream",
     "text": [
      "HOW ARE YOU?\n"
     ]
    }
   ],
   "source": [
    "data = 'how are you?'\n",
    "print(data.upper()) "
   ]
  },
  {
   "cell_type": "code",
   "execution_count": 18,
   "metadata": {},
   "outputs": [
    {
     "name": "stdout",
     "output_type": "stream",
     "text": [
      "how is it going?\n"
     ]
    }
   ],
   "source": [
    "data = 'HOW IS IT GOING?'\n",
    "print(data.lower())"
   ]
  },
  {
   "cell_type": "code",
   "execution_count": 19,
   "metadata": {},
   "outputs": [],
   "source": [
    "words = [ 'python', 'is', 'easy', 'to', 'learn']\n"
   ]
  },
  {
   "cell_type": "code",
   "execution_count": 21,
   "metadata": {},
   "outputs": [
    {
     "name": "stdout",
     "output_type": "stream",
     "text": [
      "python is easy to learn\n"
     ]
    }
   ],
   "source": [
    "print(' '.join(words))"
   ]
  },
  {
   "cell_type": "code",
   "execution_count": 23,
   "metadata": {},
   "outputs": [
    {
     "name": "stdout",
     "output_type": "stream",
     "text": [
      "hey world,\n",
      "what's up guys?\n"
     ]
    }
   ],
   "source": [
    "lines = '''hey world,\n",
    "what's up guys?'''\n",
    "print(lines)"
   ]
  },
  {
   "cell_type": "code",
   "execution_count": 25,
   "metadata": {},
   "outputs": [
    {
     "name": "stdout",
     "output_type": "stream",
     "text": [
      "hey world \n",
      "\n",
      "what's up guys?\n"
     ]
    }
   ],
   "source": [
    "print('hey world','\\n')\n",
    "print(\"what's up guys?\")"
   ]
  },
  {
   "cell_type": "code",
   "execution_count": 1,
   "metadata": {},
   "outputs": [
    {
     "name": "stdout",
     "output_type": "stream",
     "text": [
      "the variable is 15\n"
     ]
    }
   ],
   "source": [
    "a = int(input('enter any number'))\n",
    "print('the variable is', a)"
   ]
  },
  {
   "cell_type": "code",
   "execution_count": 3,
   "metadata": {},
   "outputs": [
    {
     "name": "stdout",
     "output_type": "stream",
     "text": [
      "python is great.\n"
     ]
    }
   ],
   "source": [
    "s1 = 'python'\n",
    "s2 = 'is'\n",
    "s3 = 'great.'\n",
    "msg = s1 + ' ' + s2 + ' ' + s3\n",
    "print(msg)"
   ]
  },
  {
   "cell_type": "code",
   "execution_count": 15,
   "metadata": {},
   "outputs": [
    {
     "name": "stdout",
     "output_type": "stream",
     "text": [
      "                             #                              \n",
      "                            #  #                            \n",
      "                          #  #  #                           \n",
      "                         #  #  #  #                         \n",
      "                       #  #  #  #  #                        \n",
      "                      #  #  #  #  #  #                      \n",
      "                    #  #  #  #  #  #  #                     \n",
      "                   #  #  #  #  #  #  #  #                   \n",
      "                 #  #  #  #  #  #  #  #  #                  \n",
      "                #  #  #  #  #  #  #  #  #  #                \n",
      "              #  #  #  #  #  #  #  #  #  #  #               \n",
      "             #  #  #  #  #  #  #  #  #  #  #  #             \n",
      "           #  #  #  #  #  #  #  #  #  #  #  #  #            \n",
      "          #  #  #  #  #  #  #  #  #  #  #  #  #  #          \n",
      "        #  #  #  #  #  #  #  #  #  #  #  #  #  #  #         \n",
      "       #  #  #  #  #  #  #  #  #  #  #  #  #  #  #  #       \n",
      "     #  #  #  #  #  #  #  #  #  #  #  #  #  #  #  #  #      \n",
      "    #  #  #  #  #  #  #  #  #  #  #  #  #  #  #  #  #  #    \n",
      "  #  #  #  #  #  #  #  #  #  #  #  #  #  #  #  #  #  #  #   \n"
     ]
    }
   ],
   "source": [
    "for i in range(1,20):\n",
    "    print((i*' # ').center(60)) "
   ]
  },
  {
   "cell_type": "code",
   "execution_count": 18,
   "metadata": {},
   "outputs": [
    {
     "name": "stdout",
     "output_type": "stream",
     "text": [
      "1 .\n",
      "\n",
      "2 .\n",
      "\n",
      "3 .\n",
      "\n",
      "4 .\n",
      "\n",
      "5 .\n",
      "\n",
      "6 .\n",
      "\n",
      "7 .\n",
      "\n",
      "8 .\n",
      "\n",
      "9 .\n",
      "\n"
     ]
    }
   ],
   "source": [
    "for i in range(1,10):\n",
    "    print(i,'.\\n')"
   ]
  },
  {
   "cell_type": "code",
   "execution_count": 22,
   "metadata": {},
   "outputs": [
    {
     "name": "stdout",
     "output_type": "stream",
     "text": [
      "hey\n",
      "friends\n",
      "!\n",
      "Pranshi\n",
      "here\n",
      "!!\n"
     ]
    }
   ],
   "source": [
    "sen = input('enter a sentence')\n",
    "data = sen.split()\n",
    "for i in range(len(data)):\n",
    "    print(data[i])"
   ]
  },
  {
   "cell_type": "code",
   "execution_count": 23,
   "metadata": {},
   "outputs": [
    {
     "name": "stdout",
     "output_type": "stream",
     "text": [
      "True\n"
     ]
    }
   ],
   "source": [
    "sen2 = input('enter a string')\n",
    "data = sen2[-1:]\n",
    "if data == '?':\n",
    "    print('True')\n",
    "else:\n",
    "    print('False')"
   ]
  },
  {
   "cell_type": "code",
   "execution_count": 24,
   "metadata": {},
   "outputs": [
    {
     "name": "stdout",
     "output_type": "stream",
     "text": [
      "2\n"
     ]
    }
   ],
   "source": [
    "x = 'the sun is brighter today'\n",
    "print(x.count('e'))"
   ]
  },
  {
   "cell_type": "code",
   "execution_count": 1,
   "metadata": {},
   "outputs": [
    {
     "name": "stdout",
     "output_type": "stream",
     "text": [
      "True\n"
     ]
    }
   ],
   "source": [
    "val =input()\n",
    "print(val.isnumeric())"
   ]
  },
  {
   "cell_type": "code",
   "execution_count": 2,
   "metadata": {},
   "outputs": [
    {
     "name": "stdout",
     "output_type": "stream",
     "text": [
      "this is not a good string\n"
     ]
    }
   ],
   "source": [
    "text = '   this is not a good string        ' \n",
    "print(text.strip())"
   ]
  },
  {
   "cell_type": "code",
   "execution_count": 10,
   "metadata": {},
   "outputs": [
    {
     "name": "stdout",
     "output_type": "stream",
     "text": [
      "found\n"
     ]
    }
   ],
   "source": [
    "x = input('enter the string')\n",
    "for i in range(len(x)):\n",
    "    if x[i].isupper():\n",
    "        print('found')"
   ]
  },
  {
   "cell_type": "code",
   "execution_count": 11,
   "metadata": {},
   "outputs": [
    {
     "name": "stdout",
     "output_type": "stream",
     "text": [
      "['Joe', ' David', ' Mark', ' Tom', ' Chris', ' Robert']\n"
     ]
    }
   ],
   "source": [
    "names = 'Joe, David, Mark, Tom, Chris, Robert'\n",
    "y = names.split(',')\n",
    "print(y)"
   ]
  },
  {
   "cell_type": "code",
   "execution_count": 15,
   "metadata": {},
   "outputs": [
    {
     "name": "stdout",
     "output_type": "stream",
     "text": [
      "thisaye isaye someaye textaye \n"
     ]
    }
   ],
   "source": [
    "text2 = \"this is some text \"\n",
    "data = text2.split(' ')\n",
    "data2 = 'aye '.join(data)\n",
    "print(data2)"
   ]
  },
  {
   "cell_type": "code",
   "execution_count": 24,
   "metadata": {},
   "outputs": [],
   "source": [
    "sen3 = 'just fyi python is not easy'\n"
   ]
  },
  {
   "cell_type": "code",
   "execution_count": 25,
   "metadata": {},
   "outputs": [],
   "source": [
    "text5 = '%p34@y!*-*!t68h#&on404'"
   ]
  },
  {
   "cell_type": "code",
   "execution_count": 26,
   "metadata": {},
   "outputs": [],
   "source": [
    "sentence = 'this is a paragraph which is written just for the purpose of providing content to let the average word length be calculated'"
   ]
  },
  {
   "cell_type": "code",
   "execution_count": null,
   "metadata": {},
   "outputs": [],
   "source": []
  }
 ],
 "metadata": {
  "kernelspec": {
   "display_name": "Python 3.9.12 ('base')",
   "language": "python",
   "name": "python3"
  },
  "language_info": {
   "codemirror_mode": {
    "name": "ipython",
    "version": 3
   },
   "file_extension": ".py",
   "mimetype": "text/x-python",
   "name": "python",
   "nbconvert_exporter": "python",
   "pygments_lexer": "ipython3",
   "version": "3.9.12"
  },
  "orig_nbformat": 4,
  "vscode": {
   "interpreter": {
    "hash": "f6a0c43261fc8a87bb0afccb4cac918b852b31b17aebdd62bba415c87035d28a"
   }
  }
 },
 "nbformat": 4,
 "nbformat_minor": 2
}
