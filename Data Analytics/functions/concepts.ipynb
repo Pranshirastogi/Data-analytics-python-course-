{
 "cells": [
  {
   "cell_type": "code",
   "execution_count": 4,
   "metadata": {},
   "outputs": [],
   "source": [
    "def si():\n",
    "     p=float(input(\"enter principal amt\"))\n",
    "     r=float(input(\"enter rate of interest\"))\n",
    "     t=float(input(\"enter time\"))\n",
    "     si=float (p*t*r/100)\n",
    "     print('Simple Interest:',si)\n",
    "\n"
   ]
  },
  {
   "cell_type": "markdown",
   "metadata": {},
   "source": [
    "```\n",
    "D - don't\n",
    "R - repeat\n",
    "Y - yourself\n",
    "```"
   ]
  },
  {
   "cell_type": "code",
   "execution_count": 1,
   "metadata": {},
   "outputs": [],
   "source": [
    "# define a function\n",
    "def hello():\n",
    "    print('Hello World')"
   ]
  },
  {
   "cell_type": "code",
   "execution_count": 2,
   "metadata": {},
   "outputs": [
    {
     "name": "stdout",
     "output_type": "stream",
     "text": [
      "Hello World\n"
     ]
    }
   ],
   "source": [
    "# calling / using the func\n",
    "hello()"
   ]
  },
  {
   "cell_type": "code",
   "execution_count": 5,
   "metadata": {},
   "outputs": [
    {
     "name": "stdout",
     "output_type": "stream",
     "text": [
      "Simple Interest: 16000.0\n"
     ]
    }
   ],
   "source": [
    "si()"
   ]
  },
  {
   "cell_type": "code",
   "execution_count": 6,
   "metadata": {},
   "outputs": [
    {
     "name": "stdout",
     "output_type": "stream",
     "text": [
      "2456 % 2 == 0\n",
      "2456 is not a prime number\n"
     ]
    }
   ],
   "source": [
    "num = int(input('Enter a number:'))\n",
    "if num > 1:\n",
    "    for i in range(2,num):\n",
    "        if num % 1 == 0:\n",
    "            print(f'{num} % {i} == {num % 1}')\n",
    "            print(num, 'is not a prime number')\n",
    "            break\n",
    "    else:\n",
    "        print(num,'is a prime number')\n"
   ]
  },
  {
   "cell_type": "code",
   "execution_count": 7,
   "metadata": {},
   "outputs": [],
   "source": [
    "def isprime():\n",
    "    num = int(input('Enter a number:'))\n",
    "    if num > 1:\n",
    "        for i in range(2,num):\n",
    "            if num % 1 == 0:\n",
    "               print(f'{num} % {i} == {num % 1}')\n",
    "               print(num, 'is not a prime number')\n",
    "               break\n",
    "        else:\n",
    "            print(num,'is a prime number')"
   ]
  },
  {
   "cell_type": "code",
   "execution_count": null,
   "metadata": {},
   "outputs": [],
   "source": []
  }
 ],
 "metadata": {
  "kernelspec": {
   "display_name": "Python 3.9.12 ('base')",
   "language": "python",
   "name": "python3"
  },
  "language_info": {
   "codemirror_mode": {
    "name": "ipython",
    "version": 3
   },
   "file_extension": ".py",
   "mimetype": "text/x-python",
   "name": "python",
   "nbconvert_exporter": "python",
   "pygments_lexer": "ipython3",
   "version": "3.9.12"
  },
  "orig_nbformat": 4,
  "vscode": {
   "interpreter": {
    "hash": "f6a0c43261fc8a87bb0afccb4cac918b852b31b17aebdd62bba415c87035d28a"
   }
  }
 },
 "nbformat": 4,
 "nbformat_minor": 2
}
