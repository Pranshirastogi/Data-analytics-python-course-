{
 "cells": [
  {
   "cell_type": "code",
   "execution_count": 1,
   "metadata": {},
   "outputs": [],
   "source": [
    "emp = ['Aman', 'deep', 'finance', 2300, 10000, 30000, 31, True, False, 'Acme']"
   ]
  },
  {
   "cell_type": "code",
   "execution_count": 2,
   "metadata": {},
   "outputs": [],
   "source": [
    "emp_dict = {\n",
    "    'fname': 'Amar',\n",
    "    'lname': 'deep',\n",
    "    'dept': 'finance',\n",
    "    'age': 31,\n",
    "    'salary':10000,\n",
    "    'bonus':30000,\n",
    "    'is_manager':True,\n",
    "    'is_executive': False,\n",
    "    'company':'Acme'}"
   ]
  },
  {
   "cell_type": "code",
   "execution_count": 3,
   "metadata": {},
   "outputs": [
    {
     "name": "stdout",
     "output_type": "stream",
     "text": [
      "{'fname': 'Amar', 'lname': 'deep', 'dept': 'finance', 'age': 31, 'salary': 10000, 'bonus': 30000, 'is_manager': True, 'is_executive': False, 'company': 'Acme'}\n"
     ]
    }
   ],
   "source": [
    "print(emp_dict)"
   ]
  },
  {
   "cell_type": "code",
   "execution_count": 4,
   "metadata": {},
   "outputs": [
    {
     "data": {
      "text/plain": [
       "{'fname': 'Amar',\n",
       " 'lname': 'deep',\n",
       " 'dept': 'finance',\n",
       " 'age': 31,\n",
       " 'salary': 10000,\n",
       " 'bonus': 30000,\n",
       " 'is_manager': True,\n",
       " 'is_executive': False,\n",
       " 'company': 'Acme'}"
      ]
     },
     "execution_count": 4,
     "metadata": {},
     "output_type": "execute_result"
    }
   ],
   "source": [
    "emp_dict"
   ]
  },
  {
   "cell_type": "code",
   "execution_count": 5,
   "metadata": {},
   "outputs": [],
   "source": [
    "weather_data = {\n",
    "    'date': '2019-01-01',\n",
    "    'temp': 32 ,\n",
    "    'details':{\n",
    "        'humidity': 80,\n",
    "        'wind': 10,\n",
    "        'pressure': 30,\n",
    "        'aqi': 120\n",
    "    },\n",
    "    'city': 'Lucknow',\n",
    "    'type': 'sunshine',\n",
    "    'icon': '☀️'\n",
    "}"
   ]
  },
  {
   "cell_type": "markdown",
   "metadata": {},
   "source": [
    "### accesssing data from dict"
   ]
  },
  {
   "cell_type": "code",
   "execution_count": 6,
   "metadata": {},
   "outputs": [
    {
     "data": {
      "text/plain": [
       "dict_keys(['date', 'temp', 'details', 'city', 'type', 'icon'])"
      ]
     },
     "execution_count": 6,
     "metadata": {},
     "output_type": "execute_result"
    }
   ],
   "source": [
    "weather_data.keys()"
   ]
  },
  {
   "cell_type": "code",
   "execution_count": 7,
   "metadata": {},
   "outputs": [
    {
     "data": {
      "text/plain": [
       "dict_values(['2019-01-01', 32, {'humidity': 80, 'wind': 10, 'pressure': 30, 'aqi': 120}, 'Lucknow', 'sunshine', '☀️'])"
      ]
     },
     "execution_count": 7,
     "metadata": {},
     "output_type": "execute_result"
    }
   ],
   "source": [
    "weather_data.values()"
   ]
  },
  {
   "cell_type": "code",
   "execution_count": 8,
   "metadata": {},
   "outputs": [
    {
     "data": {
      "text/plain": [
       "dict_keys(['fname', 'lname', 'dept', 'age', 'salary', 'bonus', 'is_manager', 'is_executive', 'company'])"
      ]
     },
     "execution_count": 8,
     "metadata": {},
     "output_type": "execute_result"
    }
   ],
   "source": [
    "emp_dict.keys()"
   ]
  },
  {
   "cell_type": "code",
   "execution_count": 9,
   "metadata": {},
   "outputs": [
    {
     "data": {
      "text/plain": [
       "['date', 'temp', 'details', 'city', 'type', 'icon']"
      ]
     },
     "execution_count": 9,
     "metadata": {},
     "output_type": "execute_result"
    }
   ],
   "source": [
    "list(weather_data.keys())"
   ]
  },
  {
   "cell_type": "code",
   "execution_count": 10,
   "metadata": {},
   "outputs": [
    {
     "data": {
      "text/plain": [
       "32"
      ]
     },
     "execution_count": 10,
     "metadata": {},
     "output_type": "execute_result"
    }
   ],
   "source": [
    "weather_data['temp']"
   ]
  },
  {
   "cell_type": "code",
   "execution_count": 11,
   "metadata": {},
   "outputs": [
    {
     "data": {
      "text/plain": [
       "{'humidity': 80, 'wind': 10, 'pressure': 30, 'aqi': 120}"
      ]
     },
     "execution_count": 11,
     "metadata": {},
     "output_type": "execute_result"
    }
   ],
   "source": [
    "weather_data['details']"
   ]
  },
  {
   "cell_type": "code",
   "execution_count": 12,
   "metadata": {},
   "outputs": [
    {
     "data": {
      "text/plain": [
       "32"
      ]
     },
     "execution_count": 12,
     "metadata": {},
     "output_type": "execute_result"
    }
   ],
   "source": [
    "weather_data.get('temp')"
   ]
  },
  {
   "cell_type": "code",
   "execution_count": 13,
   "metadata": {},
   "outputs": [],
   "source": [
    "weather_data.get('location')"
   ]
  },
  {
   "cell_type": "code",
   "execution_count": 14,
   "metadata": {},
   "outputs": [
    {
     "data": {
      "text/plain": [
       "'Lucknow'"
      ]
     },
     "execution_count": 14,
     "metadata": {},
     "output_type": "execute_result"
    }
   ],
   "source": [
    "weather_data.get('city','not found')"
   ]
  },
  {
   "cell_type": "code",
   "execution_count": 15,
   "metadata": {},
   "outputs": [
    {
     "data": {
      "text/plain": [
       "'not found'"
      ]
     },
     "execution_count": 15,
     "metadata": {},
     "output_type": "execute_result"
    }
   ],
   "source": [
    "weather_data.get('location','not found')"
   ]
  },
  {
   "cell_type": "markdown",
   "metadata": {},
   "source": [
    "### looping over a dictionary"
   ]
  },
  {
   "cell_type": "code",
   "execution_count": 16,
   "metadata": {},
   "outputs": [
    {
     "name": "stdout",
     "output_type": "stream",
     "text": [
      "fname\n",
      "lname\n",
      "dept\n",
      "age\n",
      "salary\n",
      "bonus\n",
      "is_manager\n",
      "is_executive\n",
      "company\n"
     ]
    }
   ],
   "source": [
    "for k in emp_dict:\n",
    "    print(k)"
   ]
  },
  {
   "cell_type": "code",
   "execution_count": 17,
   "metadata": {},
   "outputs": [
    {
     "name": "stdout",
     "output_type": "stream",
     "text": [
      "fname => Amar\n",
      "lname => deep\n",
      "dept => finance\n",
      "age => 31\n",
      "salary => 10000\n",
      "bonus => 30000\n",
      "is_manager => True\n",
      "is_executive => False\n",
      "company => Acme\n"
     ]
    }
   ],
   "source": [
    "for k in emp_dict:\n",
    "    print(k,'=>', emp_dict[k])"
   ]
  },
  {
   "cell_type": "markdown",
   "metadata": {},
   "source": [
    "### looping over a dictionary using items()"
   ]
  },
  {
   "cell_type": "code",
   "execution_count": 18,
   "metadata": {},
   "outputs": [
    {
     "name": "stdout",
     "output_type": "stream",
     "text": [
      "fname => Amar\n",
      "lname => deep\n",
      "dept => finance\n",
      "age => 31\n",
      "salary => 10000\n",
      "bonus => 30000\n",
      "is_manager => True\n",
      "is_executive => False\n",
      "company => Acme\n"
     ]
    }
   ],
   "source": [
    "for k,v in emp_dict.items():\n",
    "    print(k,'=>', v)"
   ]
  },
  {
   "cell_type": "markdown",
   "metadata": {},
   "source": [
    "### updating an entry in dictionary"
   ]
  },
  {
   "cell_type": "code",
   "execution_count": 19,
   "metadata": {},
   "outputs": [],
   "source": [
    "weather_data['temp'] = 35"
   ]
  },
  {
   "cell_type": "code",
   "execution_count": 20,
   "metadata": {},
   "outputs": [
    {
     "data": {
      "text/plain": [
       "{'date': '2019-01-01',\n",
       " 'temp': 35,\n",
       " 'details': {'humidity': 80, 'wind': 10, 'pressure': 30, 'aqi': 120},\n",
       " 'city': 'Lucknow',\n",
       " 'type': 'sunshine',\n",
       " 'icon': '☀️'}"
      ]
     },
     "execution_count": 20,
     "metadata": {},
     "output_type": "execute_result"
    }
   ],
   "source": [
    "weather_data"
   ]
  },
  {
   "cell_type": "markdown",
   "metadata": {},
   "source": [
    "### adding data"
   ]
  },
  {
   "cell_type": "code",
   "execution_count": 21,
   "metadata": {},
   "outputs": [
    {
     "name": "stdout",
     "output_type": "stream",
     "text": [
      "{'fname': 'Amar', 'lname': 'deep', 'dept': 'finance', 'age': 31, 'salary': 10000, 'bonus': 30000, 'is_manager': True, 'is_executive': False, 'company': 'Acme', 'desingnation': 'Asst A'}\n"
     ]
    }
   ],
   "source": [
    "emp_dict['desingnation'] = 'Asst A'\n",
    "print(emp_dict)"
   ]
  },
  {
   "cell_type": "markdown",
   "metadata": {},
   "source": [
    "### updating data"
   ]
  },
  {
   "cell_type": "code",
   "execution_count": 22,
   "metadata": {},
   "outputs": [
    {
     "name": "stdout",
     "output_type": "stream",
     "text": [
      "{'fname': 'Amar', 'lname': 'deep', 'dept': 'finance', 'age': 31, 'salary': 30000, 'bonus': 30000, 'is_manager': True, 'is_executive': False, 'company': 'Acme', 'desingnation': 'Section Manager'}\n"
     ]
    }
   ],
   "source": [
    "emp_dict['desingnation'] = 'Section Manager'\n",
    "emp_dict['salary'] = 30000\n",
    "print(emp_dict)"
   ]
  },
  {
   "cell_type": "markdown",
   "metadata": {},
   "source": [
    "### removing data"
   ]
  },
  {
   "cell_type": "code",
   "execution_count": 23,
   "metadata": {},
   "outputs": [],
   "source": [
    "if 'is_executive' in emp_dict:\n",
    "    emp_dict.pop('is_executive')"
   ]
  },
  {
   "cell_type": "code",
   "execution_count": 24,
   "metadata": {},
   "outputs": [
    {
     "data": {
      "text/plain": [
       "{'fname': 'Amar',\n",
       " 'lname': 'deep',\n",
       " 'dept': 'finance',\n",
       " 'age': 31,\n",
       " 'salary': 30000,\n",
       " 'bonus': 30000,\n",
       " 'is_manager': True,\n",
       " 'company': 'Acme',\n",
       " 'desingnation': 'Section Manager'}"
      ]
     },
     "execution_count": 24,
     "metadata": {},
     "output_type": "execute_result"
    }
   ],
   "source": [
    "emp_dict"
   ]
  },
  {
   "cell_type": "code",
   "execution_count": 25,
   "metadata": {},
   "outputs": [],
   "source": [
    "reports = {\n",
    "    '001': {\n",
    "        'name':'Amar',\n",
    "        'subjects':{'English':80,'Maths':90,'Science':95}\n",
    "    },\n",
    "    '002': {\n",
    "        'name':'Vijay',\n",
    "        'subjects':{'English':70,'Maths':60,'SCience':85}\n",
    "    },\n",
    "    '003': {\n",
    "        'name':'Raj',\n",
    "        'subjects':{'English':60,'Maths':50,'SCience':45}\n",
    "    }\n",
    "}"
   ]
  },
  {
   "cell_type": "code",
   "execution_count": 26,
   "metadata": {},
   "outputs": [
    {
     "data": {
      "text/plain": [
       "{'001': {'name': 'Amar',\n",
       "  'subjects': {'English': 80, 'Maths': 90, 'Science': 95}},\n",
       " '002': {'name': 'Vijay',\n",
       "  'subjects': {'English': 70, 'Maths': 60, 'SCience': 85}},\n",
       " '003': {'name': 'Raj',\n",
       "  'subjects': {'English': 60, 'Maths': 50, 'SCience': 45}}}"
      ]
     },
     "execution_count": 26,
     "metadata": {},
     "output_type": "execute_result"
    }
   ],
   "source": [
    "reports"
   ]
  },
  {
   "cell_type": "code",
   "execution_count": 27,
   "metadata": {},
   "outputs": [
    {
     "name": "stdout",
     "output_type": "stream",
     "text": [
      "001 {'name': 'Amar', 'subjects': {'English': 80, 'Maths': 90, 'Science': 95}}\n",
      "002 {'name': 'Vijay', 'subjects': {'English': 70, 'Maths': 60, 'SCience': 85}}\n",
      "003 {'name': 'Raj', 'subjects': {'English': 60, 'Maths': 50, 'SCience': 45}}\n"
     ]
    }
   ],
   "source": [
    "for roll, data in reports.items():\n",
    "    print(roll,data)"
   ]
  },
  {
   "cell_type": "code",
   "execution_count": 28,
   "metadata": {},
   "outputs": [
    {
     "name": "stdout",
     "output_type": "stream",
     "text": [
      "001\n",
      "name\n",
      "subjects\n",
      "002\n",
      "name\n",
      "subjects\n",
      "003\n",
      "name\n",
      "subjects\n"
     ]
    }
   ],
   "source": [
    "for roll, data in reports.items():\n",
    "    print(roll)\n",
    "    for key, val in data.items():\n",
    "        print(key)"
   ]
  },
  {
   "cell_type": "code",
   "execution_count": 29,
   "metadata": {},
   "outputs": [
    {
     "name": "stdout",
     "output_type": "stream",
     "text": [
      "001\n",
      "name\n",
      "Amar\n",
      "--------------------\n",
      "subjects\n",
      "English 80\n",
      "Maths 90\n",
      "Science 95\n",
      "--------------------\n",
      "002\n",
      "name\n",
      "Vijay\n",
      "--------------------\n",
      "subjects\n",
      "English 70\n",
      "Maths 60\n",
      "SCience 85\n",
      "--------------------\n",
      "003\n",
      "name\n",
      "Raj\n",
      "--------------------\n",
      "subjects\n",
      "English 60\n",
      "Maths 50\n",
      "SCience 45\n",
      "--------------------\n"
     ]
    }
   ],
   "source": [
    "for roll, data in reports.items():\n",
    "    print(roll)\n",
    "    for key, val in data.items():\n",
    "        print(key)\n",
    "        if isinstance(val,dict):                 # isinstance func is used to check the datatype \n",
    "            for sub, marks in val.items():\n",
    "                print(sub, marks)\n",
    "        else:\n",
    "            print(val)\n",
    "        print('--'*10)"
   ]
  },
  {
   "cell_type": "code",
   "execution_count": 30,
   "metadata": {},
   "outputs": [
    {
     "name": "stdout",
     "output_type": "stream",
     "text": [
      "Roll No. 001\n",
      "name Amar\n",
      "subjects\n",
      "English 80\n",
      "Maths 90\n",
      "Science 95\n",
      "--------------------\n",
      "Roll No. 002\n",
      "name Vijay\n",
      "subjects\n",
      "English 70\n",
      "Maths 60\n",
      "SCience 85\n",
      "--------------------\n",
      "Roll No. 003\n",
      "name Raj\n",
      "subjects\n",
      "English 60\n",
      "Maths 50\n",
      "SCience 45\n",
      "--------------------\n"
     ]
    }
   ],
   "source": [
    "for roll, data in reports.items():\n",
    "    print('Roll No.',roll)\n",
    "    for key, val in data.items():\n",
    "        if isinstance(val,dict):\n",
    "            print(key)\n",
    "            for sub, marks in val.items():\n",
    "                print(sub, marks)\n",
    "        else:\n",
    "            print(key, val)\n",
    "    print('--'*10)"
   ]
  },
  {
   "cell_type": "code",
   "execution_count": 31,
   "metadata": {},
   "outputs": [
    {
     "name": "stdout",
     "output_type": "stream",
     "text": [
      "Roll No. 001\n",
      "name Amar\n",
      "subjects\n",
      "English 80\n",
      "Maths 90\n",
      "Science 95\n",
      "Total: 265/300\n",
      "Prct: 88.33%\n",
      "--------------------\n",
      "Roll No. 002\n",
      "name Vijay\n",
      "subjects\n",
      "English 70\n",
      "Maths 60\n",
      "SCience 85\n",
      "Total: 215/300\n",
      "Prct: 71.67%\n",
      "--------------------\n",
      "Roll No. 003\n",
      "name Raj\n",
      "subjects\n",
      "English 60\n",
      "Maths 50\n",
      "SCience 45\n",
      "Total: 155/300\n",
      "Prct: 51.67%\n",
      "--------------------\n"
     ]
    }
   ],
   "source": [
    "for roll, data in reports.items():\n",
    "    print('Roll No.',roll)\n",
    "    for key, val in data.items():\n",
    "        if isinstance(val,dict):\n",
    "            print(key)\n",
    "            total = 0   #before loop set total marks to 0\n",
    "            for sub, marks in val.items():\n",
    "                print(sub, marks)\n",
    "                total += marks #add marks to total\n",
    "            print(f'Total: {total}/300')\n",
    "            print(f'Prct: {total/300*100:.2f}%') # display\n",
    "        else:\n",
    "            print(key, val)\n",
    "    print('--'*10)"
   ]
  },
  {
   "cell_type": "markdown",
   "metadata": {},
   "source": [
    "### file handling\n",
    "- open file\n",
    "- reading file\n",
    "- writing file\n",
    "- appending file"
   ]
  },
  {
   "cell_type": "code",
   "execution_count": 32,
   "metadata": {},
   "outputs": [
    {
     "name": "stdout",
     "output_type": "stream",
     "text": [
      "print(\"hi there\")\n"
     ]
    }
   ],
   "source": [
    "f = open('hello.py')\n",
    "print(f.read())"
   ]
  },
  {
   "cell_type": "code",
   "execution_count": 33,
   "metadata": {},
   "outputs": [
    {
     "name": "stdout",
     "output_type": "stream",
     "text": [
      "hy there\n",
      "\n"
     ]
    }
   ],
   "source": [
    "f = open(r'C:\\Users\\rasto\\OneDrive\\Desktop\\pranshi.txt')\n",
    "print(f.read())"
   ]
  },
  {
   "cell_type": "code",
   "execution_count": 34,
   "metadata": {},
   "outputs": [
    {
     "name": "stdout",
     "output_type": "stream",
     "text": [
      "9 characters\n"
     ]
    }
   ],
   "source": [
    "f = open(r'C:\\Users\\rasto\\OneDrive\\Desktop\\pranshi.txt')\n",
    "content = f.read()\n",
    "print(f'{len(content)} characters')"
   ]
  },
  {
   "cell_type": "code",
   "execution_count": 35,
   "metadata": {},
   "outputs": [],
   "source": [
    "data = 'hi everyone, this is a simple file'\n",
    "with open('mydata.txt','w') as file:\n",
    "    file.write(data)"
   ]
  },
  {
   "cell_type": "code",
   "execution_count": 36,
   "metadata": {},
   "outputs": [],
   "source": [
    "# not to be used\n",
    "# file = open('mydata.txt','w')\n",
    "# file.write(data)\n",
    "# file.close()"
   ]
  },
  {
   "cell_type": "code",
   "execution_count": 37,
   "metadata": {},
   "outputs": [],
   "source": [
    "data = '\\nthis is the new data that is going to be written'\n",
    "with open('mydata.txt','a') as file:\n",
    "    file.write(data)"
   ]
  },
  {
   "cell_type": "code",
   "execution_count": 38,
   "metadata": {},
   "outputs": [
    {
     "name": "stdout",
     "output_type": "stream",
     "text": [
      "File bio.text saved\n"
     ]
    }
   ],
   "source": [
    "file = 'bio.text'\n",
    "content = ''\n",
    "while True:\n",
    "    line = input('Enter a line (or q to quit): ')\n",
    "    if line =='q':\n",
    "        break\n",
    "    content +=line +'\\n'\n",
    "\n",
    "with open(file,'w')as f:\n",
    "    f.write(content)\n",
    "    print(f'File {file} saved')"
   ]
  },
  {
   "cell_type": "code",
   "execution_count": null,
   "metadata": {},
   "outputs": [],
   "source": []
  }
 ],
 "metadata": {
  "kernelspec": {
   "display_name": "Python 3.9.12 ('base')",
   "language": "python",
   "name": "python3"
  },
  "language_info": {
   "codemirror_mode": {
    "name": "ipython",
    "version": 3
   },
   "file_extension": ".py",
   "mimetype": "text/x-python",
   "name": "python",
   "nbconvert_exporter": "python",
   "pygments_lexer": "ipython3",
   "version": "3.9.12"
  },
  "orig_nbformat": 4,
  "vscode": {
   "interpreter": {
    "hash": "f6a0c43261fc8a87bb0afccb4cac918b852b31b17aebdd62bba415c87035d28a"
   }
  }
 },
 "nbformat": 4,
 "nbformat_minor": 2
}
